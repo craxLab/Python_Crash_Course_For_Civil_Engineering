{
 "cells": [
  {
   "cell_type": "markdown",
   "id": "1c604853",
   "metadata": {},
   "source": [
    "## Python Crash Course For Civil Engineering\n",
    "### Dr. Aydın DEMİR \n",
    "www.aydindemir.com | instagram: @dr.aydindemir\n",
    "\n",
    "#### GitHub Page of the course:\n",
    "\n",
    "GitHub: @craxLab   | https://github.com/CraxLab\n",
    "\n",
    "Instagram: @craxLab  | https://instagram.com/CraxLab\n",
    "\n",
    "---"
   ]
  },
  {
   "cell_type": "markdown",
   "id": "6870001d",
   "metadata": {},
   "source": [
    "\n",
    "## Launching Python \n",
    "\n",
    "There are several interfaces that allows us to use Python interactively. IPython, Jupyter, Anaconda spyder are among some of them. \n",
    "\n",
    "We will use **Jupyter** in this class.\n",
    "\n",
    "<img src=\"./Figures/jupyter.png\" width=\"200\" height=\"200\" align=\"left\"/> <br> \n",
    "https://jupyter.org/\n",
    "<br> \n",
    "\n",
    "---\n",
    "Jupyter is an open source web application that uses a browserbased interface and it is one of the many possible ways to interact with Python and the scientific libraries. \n",
    "\n",
    "You can :\n",
    "\n",
    "• create and share documents,\n",
    "\n",
    "• write and execute Python code,\n",
    "\n",
    "• include tables, figures, equation, visualizations, etc. with Jupyter which is fast processor in the scientific computing algorithms.\n",
    "\n",
    "https://www.youtube.com/watch?v=3C9E2yPBw7s\n",
    "\n",
    "\n",
    "### Installing Jupyter:\n",
    "<img src=\"./Figures/anaconda.png\" width=\"240\" height=\"130\" align=\"left\"/> \n",
    "\n",
    "https://www.anaconda.com/\n",
    "\n",
    "https://www.youtube.com/watch?v=5mDYijMfSzs"
   ]
  },
  {
   "cell_type": "markdown",
   "id": "074ab539",
   "metadata": {},
   "source": [
    "---\n",
    "\n",
    "***Ekrana Sakarya yazdıralım:***\n",
    "\n",
    "Execution of the codes:\n",
    "\n",
    "Shift + Enter --> execute cell and jump to the next one\n",
    "\n",
    "Ctrl + Enter --> execute cell and don't jump to the next cell"
   ]
  },
  {
   "cell_type": "code",
   "execution_count": 2,
   "id": "35b1c31d",
   "metadata": {},
   "outputs": [
    {
     "ename": "NameError",
     "evalue": "name 'Sakarya' is not defined",
     "output_type": "error",
     "traceback": [
      "\u001b[1;31m---------------------------------------------------------------------------\u001b[0m",
      "\u001b[1;31mNameError\u001b[0m                                 Traceback (most recent call last)",
      "\u001b[1;32m~\\AppData\\Local\\Temp\\ipykernel_18876\\2637822637.py\u001b[0m in \u001b[0;36m<module>\u001b[1;34m\u001b[0m\n\u001b[1;32m----> 1\u001b[1;33m \u001b[0mSakarya\u001b[0m\u001b[1;33m\u001b[0m\u001b[1;33m\u001b[0m\u001b[0m\n\u001b[0m",
      "\u001b[1;31mNameError\u001b[0m: name 'Sakarya' is not defined"
     ]
    }
   ],
   "source": [
    "Sakarya"
   ]
  },
  {
   "cell_type": "code",
   "execution_count": 3,
   "id": "f4e07703",
   "metadata": {},
   "outputs": [
    {
     "name": "stdout",
     "output_type": "stream",
     "text": [
      "Sakarya\n"
     ]
    }
   ],
   "source": [
    "print(\"Sakarya\")"
   ]
  },
  {
   "cell_type": "code",
   "execution_count": 5,
   "id": "6bcafd7c",
   "metadata": {},
   "outputs": [],
   "source": [
    "# Comment line\n",
    "# print(\"Sakarya\")"
   ]
  },
  {
   "cell_type": "markdown",
   "id": "346c03e9",
   "metadata": {},
   "source": [
    "# Variables (Değişkenler)\n",
    "\n",
    "<img src=\"./Figures/variables3.png\" align=\"left\"/>"
   ]
  },
  {
   "cell_type": "code",
   "execution_count": 10,
   "id": "04147996",
   "metadata": {},
   "outputs": [
    {
     "name": "stdout",
     "output_type": "stream",
     "text": [
      "50\n",
      "100\n"
     ]
    }
   ],
   "source": [
    "a = 50\n",
    "print(a)\n",
    "\n",
    "b = 100\n",
    "print(b)"
   ]
  },
  {
   "cell_type": "markdown",
   "id": "096f6de5",
   "metadata": {},
   "source": [
    "### Operators (İşleçler)"
   ]
  },
  {
   "cell_type": "code",
   "execution_count": 14,
   "id": "e4b060d4",
   "metadata": {},
   "outputs": [
    {
     "name": "stdout",
     "output_type": "stream",
     "text": [
      "150\n",
      "-50\n",
      "5000\n",
      "0.5\n",
      "78886090522101180541172856528278622967320643510902300477027893066406250000000000000000000000000000000000000000000000000000000000000000000000000000000000000000000000000000\n"
     ]
    }
   ],
   "source": [
    "print(a + b)\n",
    "print(a - b)\n",
    "print(a * b)\n",
    "print(a / b)\n",
    "print(a ** b)"
   ]
  },
  {
   "cell_type": "markdown",
   "id": "b8523fe6",
   "metadata": {},
   "source": [
    "**Order of Operations (İşlem Önceliği)**\n",
    "\n",
    "<img src=\"./Figures/order-of-operations.png\" align=\"left\"/>"
   ]
  },
  {
   "cell_type": "markdown",
   "id": "e9a47077",
   "metadata": {},
   "source": [
    "***Example:***\n",
    "\n",
    "8 ÷ 2 x (2 + 2) = ? \n",
    "\n",
    "What is the correct answer? ==> 1 or 16 ?"
   ]
  },
  {
   "cell_type": "code",
   "execution_count": 15,
   "id": "735c274d",
   "metadata": {},
   "outputs": [
    {
     "data": {
      "text/plain": [
       "16.0"
      ]
     },
     "execution_count": 15,
     "metadata": {},
     "output_type": "execute_result"
    }
   ],
   "source": [
    "8 / 2 * (2 + 2)"
   ]
  },
  {
   "cell_type": "markdown",
   "id": "62b4fdd3",
   "metadata": {},
   "source": [
    "# Data Structures (Veri Yapıları)\n",
    "\n",
    "<img src=\"./Figures/Datatypes-in-python2.png\" align=\"left\"/>\n",
    "\n",
    "Source: https://www.javatpoint.com/python-data-types"
   ]
  },
  {
   "cell_type": "markdown",
   "id": "4c2fddee",
   "metadata": {},
   "source": [
    "### Data Types (Veri Tipleri)"
   ]
  },
  {
   "cell_type": "code",
   "execution_count": 19,
   "id": "bca90aa0",
   "metadata": {},
   "outputs": [
    {
     "name": "stdout",
     "output_type": "stream",
     "text": [
      "Sakarya\n",
      "3.14\n",
      "True\n",
      "False\n"
     ]
    }
   ],
   "source": [
    "x  = \"Sakarya\"  # Metin\n",
    "print(x)\n",
    "y = 3.14  # sayı\n",
    "print(y)\n",
    "z = True\n",
    "print(z)\n",
    "s = False\n",
    "print(s)"
   ]
  },
  {
   "cell_type": "code",
   "execution_count": 21,
   "id": "abca1452",
   "metadata": {},
   "outputs": [
    {
     "data": {
      "text/plain": [
       "False"
      ]
     },
     "execution_count": 21,
     "metadata": {},
     "output_type": "execute_result"
    }
   ],
   "source": [
    "13 < 2"
   ]
  },
  {
   "cell_type": "code",
   "execution_count": 23,
   "id": "20a7a925",
   "metadata": {},
   "outputs": [
    {
     "data": {
      "text/plain": [
       "False"
      ]
     },
     "execution_count": 23,
     "metadata": {},
     "output_type": "execute_result"
    }
   ],
   "source": [
    "\"Sakarya\" == \"sakarya\""
   ]
  },
  {
   "cell_type": "markdown",
   "id": "955b07b6",
   "metadata": {},
   "source": [
    "### List (Listeler)"
   ]
  },
  {
   "cell_type": "code",
   "execution_count": 24,
   "id": "7ee5c71f",
   "metadata": {},
   "outputs": [
    {
     "name": "stdout",
     "output_type": "stream",
     "text": [
      "[1, 2, 3, 4, 5]\n"
     ]
    }
   ],
   "source": [
    "liste = [1, 2, 3, 4, 5]\n",
    "print(liste)"
   ]
  },
  {
   "cell_type": "code",
   "execution_count": 25,
   "id": "010b19ed",
   "metadata": {},
   "outputs": [
    {
     "name": "stdout",
     "output_type": "stream",
     "text": [
      "['Ali', 'Veli', 'Ayşe']\n"
     ]
    }
   ],
   "source": [
    "ogrenci = [\"Ali\", \"Veli\", \"Ayşe\",\"Veli\"]\n",
    "print(ogrenci)"
   ]
  },
  {
   "cell_type": "markdown",
   "id": "1232bdc8",
   "metadata": {},
   "source": [
    "### Dictionary (Sözlükler)"
   ]
  },
  {
   "cell_type": "code",
   "execution_count": 26,
   "id": "9758ee4a",
   "metadata": {},
   "outputs": [
    {
     "name": "stdout",
     "output_type": "stream",
     "text": [
      "{'h': 500, 'b': 200}\n"
     ]
    }
   ],
   "source": [
    "kesit = {\"h\":500, \"b\":200}\n",
    "print(kesit)"
   ]
  },
  {
   "cell_type": "code",
   "execution_count": null,
   "id": "4b136a4f",
   "metadata": {},
   "outputs": [],
   "source": []
  },
  {
   "cell_type": "markdown",
   "id": "2ecc9a72",
   "metadata": {},
   "source": [
    "### Tuple (Demetler)"
   ]
  },
  {
   "cell_type": "code",
   "execution_count": 29,
   "id": "73ae2379",
   "metadata": {},
   "outputs": [
    {
     "name": "stdout",
     "output_type": "stream",
     "text": [
      "('Ali', 'Veli', 'Ayşe', 'Ali')\n"
     ]
    }
   ],
   "source": [
    "ogrenci = (\"Ali\", \"Veli\", \"Ayşe\",\"Ali\")\n",
    "print(ogrenci)"
   ]
  },
  {
   "cell_type": "markdown",
   "id": "f9517ae9",
   "metadata": {},
   "source": [
    "### Set (Kümeler)"
   ]
  },
  {
   "cell_type": "code",
   "execution_count": 28,
   "id": "b2060127",
   "metadata": {},
   "outputs": [
    {
     "name": "stdout",
     "output_type": "stream",
     "text": [
      "{'Ford', 'BMW', 'Volvo'}\n"
     ]
    }
   ],
   "source": [
    "arabalar = {\"Ford\", \"Volvo\", \"BMW\"}\n",
    "print(arabalar)"
   ]
  },
  {
   "cell_type": "markdown",
   "id": "faa0d5ec",
   "metadata": {},
   "source": [
    "---\n",
    "\n",
    "## Index Operator (İndeks işleçleri)\n",
    "\n",
    "* An index operator **[ ]** can be used to access the elements of a list. \n",
    "\n",
    "* Index starts with **0** and must be an <font color=red>integer</font>.\n",
    "\n",
    "* If you access the index number out of the range it will cause <font color=red>IndexError</font>; \n",
    "\n",
    "* if you use float or other types, it will cause <font color=red>TypeError</font> will occur.\n",
    "\n",
    "***Syntax:*** [Start_index : Finish_index+1 : Increment]\n",
    "\n",
    "### Example:\n",
    "\n",
    "<img src=\"./Figures/civil_engineer.jpg\" align=\"left\"/>"
   ]
  },
  {
   "cell_type": "code",
   "execution_count": 31,
   "id": "1c3b2116",
   "metadata": {},
   "outputs": [
    {
     "name": "stdout",
     "output_type": "stream",
     "text": [
      "CIVIL ENGINEER\n"
     ]
    }
   ],
   "source": [
    "sehir = \"CIVIL ENGINEER\"\n",
    "print(sehir)"
   ]
  },
  {
   "cell_type": "code",
   "execution_count": 33,
   "id": "aeebfd81",
   "metadata": {},
   "outputs": [],
   "source": [
    "profil = [\"IPN120\", \"IPN140\",\"IPN160\", \"IPN180\",\"IPN200\", \"IPN220\"]"
   ]
  },
  {
   "cell_type": "code",
   "execution_count": 34,
   "id": "d9bc1749",
   "metadata": {},
   "outputs": [
    {
     "name": "stdout",
     "output_type": "stream",
     "text": [
      "IPN120\n"
     ]
    }
   ],
   "source": [
    "# access first item:\n",
    "print(profil[0])"
   ]
  },
  {
   "cell_type": "code",
   "execution_count": 35,
   "id": "8bf7795f",
   "metadata": {},
   "outputs": [
    {
     "name": "stdout",
     "output_type": "stream",
     "text": [
      "IPN200\n"
     ]
    }
   ],
   "source": [
    "# access 5th item:\n",
    "print(profil[4])"
   ]
  },
  {
   "cell_type": "code",
   "execution_count": 36,
   "id": "93bf33f9",
   "metadata": {},
   "outputs": [
    {
     "name": "stdout",
     "output_type": "stream",
     "text": [
      "IPN200\n"
     ]
    }
   ],
   "source": [
    "# access reversed 5th item\n",
    "print(profil[-2])"
   ]
  },
  {
   "cell_type": "code",
   "execution_count": 40,
   "id": "38edf51e",
   "metadata": {},
   "outputs": [
    {
     "name": "stdout",
     "output_type": "stream",
     "text": [
      "['IPN140', 'IPN160', 'IPN180']\n"
     ]
    }
   ],
   "source": [
    "# access from 2nd item to 5th item (5th not included)\n",
    "print(profil[1:4:1])"
   ]
  },
  {
   "cell_type": "code",
   "execution_count": 39,
   "id": "e7bbaf60",
   "metadata": {},
   "outputs": [
    {
     "name": "stdout",
     "output_type": "stream",
     "text": [
      "['IPN140', 'IPN180', 'IPN220']\n"
     ]
    }
   ],
   "source": [
    "# access from 2nd item to 6th item with increment 2 (6th included)\n",
    "print(profil[1:6:2])"
   ]
  },
  {
   "cell_type": "markdown",
   "id": "d1ee761d",
   "metadata": {},
   "source": [
    "# Conditionals (Koşullu İfadeler)\n",
    "\n",
    "\" if \" statement is one of the most simple decision making statement. It is used to decide whether a certain statement is True or False. \n",
    "\n",
    "\" if - else\" statement is stands for a decision with two possible conclusion. If the statement is True follow 1st path, else follow the 2nd path.\n",
    "\n",
    "In order to chain conditions to each other to simplify/solve more complex logics \"elif\" can be used as a concentration version of else and if. If the _\" if \"_ statement condition is False, then the code will check the _\" elif \"_ condition on the next block, and so on. Even all of them are False, _\" else \"_ will be executed.\n",
    "\n",
    "<img src=\"./Figures/elif-else-statement.png\" align=\"left\"/>\n",
    "\n",
    "Source: https://www.javatpoint.com/"
   ]
  },
  {
   "cell_type": "markdown",
   "id": "1ad95909",
   "metadata": {},
   "source": [
    "#### The syntax of the elif statement is given below.\n",
    "\n",
    "if expression 1:   \n",
    ">block of statements   \n",
    "  \n",
    "elif expression 2:   \n",
    ">block of statements   \n",
    "  \n",
    "elif expression 3:   \n",
    ">block of statements   \n",
    "  \n",
    "else:   \n",
    ">block of statements  "
   ]
  },
  {
   "cell_type": "markdown",
   "id": "d251b3f6",
   "metadata": {},
   "source": [
    "**Example:** Horizontal Elastic Design Spectrum of TEC-2018\n",
    "\n",
    "<img src=\"./Figures/Design_SpectrumHor2.png\" align=\"left\"/> "
   ]
  },
  {
   "cell_type": "code",
   "execution_count": 1,
   "id": "a9157ed3",
   "metadata": {},
   "outputs": [
    {
     "name": "stdout",
     "output_type": "stream",
     "text": [
      "T küçüktür Ta\n"
     ]
    }
   ],
   "source": [
    "# if-elif-else\n",
    "T = 1\n",
    "Ta = 2\n",
    "\n",
    "if T < Ta:\n",
    "    print(\"T küçüktür Ta\")\n",
    "elif T == Ta:\n",
    "    print(\"T eşittir Ta\")\n",
    "else:\n",
    "    print(\"T büyüktür Ta\")"
   ]
  },
  {
   "cell_type": "markdown",
   "id": "b787cbf2",
   "metadata": {},
   "source": [
    "# Loops (Döngüler)\n",
    "\n",
    "Loops are another type of flow control structure in programming language. By using loop conditions, a code can be repeated multiple times under specific conditions."
   ]
  },
  {
   "cell_type": "markdown",
   "id": "dbfb4a55",
   "metadata": {},
   "source": [
    "### For loop:\n",
    "\n",
    "<img src=\"./Figures/for-loop.png\" align=\"left\"/>"
   ]
  },
  {
   "cell_type": "code",
   "execution_count": 5,
   "id": "71bcf2d0",
   "metadata": {},
   "outputs": [
    {
     "name": "stdout",
     "output_type": "stream",
     "text": [
      "1\n",
      "2\n",
      "3\n"
     ]
    }
   ],
   "source": [
    "T = [1,2,2.5,3,4,5,9,10] # Bina periyotları\n",
    "print(T[0])\n",
    "print(T[1])\n",
    "print(T[3])"
   ]
  },
  {
   "cell_type": "code",
   "execution_count": 6,
   "id": "ae0fc466",
   "metadata": {},
   "outputs": [
    {
     "name": "stdout",
     "output_type": "stream",
     "text": [
      "1\n",
      "2\n",
      "2.5\n",
      "3\n",
      "4\n",
      "5\n",
      "9\n",
      "10\n"
     ]
    }
   ],
   "source": [
    "for Ti in T:\n",
    "    print(Ti)"
   ]
  },
  {
   "cell_type": "code",
   "execution_count": 7,
   "id": "5ae22ef1",
   "metadata": {},
   "outputs": [
    {
     "name": "stdout",
     "output_type": "stream",
     "text": [
      "[1.0, 0.5, 0.4, 0.3333333333333333, 0.25, 0.2, 0.1111111111111111, 0.1]\n"
     ]
    }
   ],
   "source": [
    "# Example\n",
    "T = [1,2,3,4,5,6,7,8,9,10] # Bina periyotları\n",
    "\n",
    "f = []\n",
    "for Ti in T:\n",
    "    fi = 1/Ti\n",
    "    f.append(fi)\n",
    "    \n",
    "print(f)"
   ]
  },
  {
   "cell_type": "markdown",
   "id": "cd97f477",
   "metadata": {},
   "source": [
    "### While loop:\n",
    "\n",
    "- A while loop statement is used to repeatedly iterate a block of target statement as long as the given expression is True. \n",
    "\n",
    "- If the condition becomes False, the code will pass that line and will follow the loop. \n",
    "\n",
    "- The while loop generally prefers for the conditions that we don't know the number of times to iterate.\n",
    "\n",
    "<img src=\"./Figures/while-loop.png\" align=\"left\"/>"
   ]
  },
  {
   "cell_type": "code",
   "execution_count": 11,
   "id": "7b7bd022",
   "metadata": {},
   "outputs": [
    {
     "name": "stdout",
     "output_type": "stream",
     "text": [
      "[1.0, 0.5, 0.3333333333333333, 0.25, 0.2, 0.16666666666666666, 0.14285714285714285, 0.125, 0.1111111111111111, 0.1]\n"
     ]
    }
   ],
   "source": [
    "T = 1\n",
    "f = []\n",
    "while T <= 10:\n",
    "    fi = 1/T\n",
    "    f.append(fi)\n",
    "    T = T+1\n",
    "    \n",
    "print(f)"
   ]
  },
  {
   "cell_type": "markdown",
   "id": "102333f8",
   "metadata": {},
   "source": [
    "# Functions (Fonksiyonlar):\n",
    "\n",
    "<img src=\"./Figures/def_func.png\" align=\"left\"/>"
   ]
  },
  {
   "cell_type": "code",
   "execution_count": 53,
   "id": "fac75410",
   "metadata": {},
   "outputs": [
    {
     "name": "stdout",
     "output_type": "stream",
     "text": [
      "7\n",
      "27\n",
      "36\n",
      "20\n"
     ]
    }
   ],
   "source": [
    "def toplama(x, y):\n",
    "    z = x+y\n",
    "    return z\n",
    "\n",
    "print(toplama(2, 5))\n",
    "print(toplama(12, 15))\n",
    "print(toplama(21, 15))\n",
    "print(toplama(25, -5))"
   ]
  },
  {
   "cell_type": "code",
   "execution_count": 14,
   "id": "a43cecab",
   "metadata": {},
   "outputs": [
    {
     "name": "stdout",
     "output_type": "stream",
     "text": [
      "[1, 2, 3, 4, 5, 6, 7, 8, 9, 10]\n",
      "[1.0, 0.5, 0.3333333333333333, 0.25, 0.2, 0.16666666666666666, 0.14285714285714285, 0.125, 0.1111111111111111, 0.1]\n"
     ]
    }
   ],
   "source": [
    "def freq(T):\n",
    "    f = 1/T\n",
    "    return f\n",
    "\n",
    "T = [1,2,3,4,5,6,7,8,9,10] # Bina periyotları\n",
    "\n",
    "f = []\n",
    "for Ti in T:\n",
    "    fi = freq(Ti)\n",
    "    f.append(fi)\n",
    "    \n",
    "print(T)\n",
    "print(f)"
   ]
  },
  {
   "cell_type": "markdown",
   "id": "3cd5be6c",
   "metadata": {},
   "source": [
    "# File Handling (Dosya İşlemleri)\n",
    "\n",
    "### Open a File on the Server\n",
    "\n",
    "The key function for working with files in Python is the open() function.\n",
    "\n",
    "The open() function takes two parameters; filename, and mode.\n",
    "\n",
    "\n",
    "**There are four different methods (modes) for opening a file:**\n",
    "\n",
    "\"r\" - Read - Default value. Opens a file for reading, error if the file does not exist\n",
    "\n",
    "\"a\" - Append - Opens a file for appending, creates the file if it does not exist\n",
    "\n",
    "\"w\" - Write - Opens a file for writing, creates the file if it does not exist\n",
    "\n",
    "\"x\" - Create - Creates the specified file, returns an error if the file exists"
   ]
  },
  {
   "cell_type": "markdown",
   "id": "2625346f",
   "metadata": {},
   "source": [
    "### Dosya okuma işlemi"
   ]
  },
  {
   "cell_type": "code",
   "execution_count": 61,
   "id": "bfc66934",
   "metadata": {},
   "outputs": [
    {
     "name": "stdout",
     "output_type": "stream",
     "text": [
      "insaat muhendisiinsaat muhendisi 2\n",
      "insaat muhendisi 3\n"
     ]
    }
   ],
   "source": [
    "with open(\"ornek.txt\", \"r\") as dosyam:\n",
    "    veri = dosyam.read()\n",
    "    print(veri)"
   ]
  },
  {
   "cell_type": "markdown",
   "id": "99b08217",
   "metadata": {},
   "source": [
    "### Dosya yazma işlemi"
   ]
  },
  {
   "cell_type": "code",
   "execution_count": 60,
   "id": "b3f963cc",
   "metadata": {},
   "outputs": [],
   "source": [
    "with open(\"ornek.txt\", \"a\") as dosyam:\n",
    "    dosyam.write(\"\\ninsaat muhendisi 3\")"
   ]
  },
  {
   "cell_type": "markdown",
   "id": "2f45cf4f",
   "metadata": {},
   "source": [
    "---\n",
    "\n",
    "# Modules (Modüller)\n",
    "\n",
    "**What is a Module?**\n",
    "\n",
    "- Consider a module as a package to be the same as a **code library**.\n",
    "\n",
    "- A file containing a set of functions you want to include in your application.\n",
    "\n",
    "- There are many free modules can be used in Python which can be easly find on the internet.\n",
    "\n",
    "**Some useful modules in Python to solve civil engineering problems:** https://www.scipy.org/\n",
    "\n",
    "![](./Figures/modules.png)"
   ]
  },
  {
   "cell_type": "markdown",
   "id": "2db6eb77",
   "metadata": {},
   "source": [
    "### Random modülü"
   ]
  },
  {
   "cell_type": "code",
   "execution_count": 66,
   "id": "ac9c723c",
   "metadata": {},
   "outputs": [
    {
     "name": "stdout",
     "output_type": "stream",
     "text": [
      "987\n"
     ]
    }
   ],
   "source": [
    "# Import random module\n",
    "import random\n",
    "\n",
    "print(random.randint(100, 1000))"
   ]
  },
  {
   "cell_type": "markdown",
   "id": "16fbfd85",
   "metadata": {},
   "source": [
    "<img src=\"./Figures/numpy.png\" width=\"240\" height=\"130\" align=\"left\"/>\n",
    "<br> <br> <br> <br> \n",
    "\n",
    "NumPy (Numerical Python) is an open source Python library which is very useful general-purpose array-processing package and a core of the scientific and engineering computing ecosystem of Python. It includes multidimensional array object, broadcasting functions, linear algebra calculations, Fourier transform and more. The NumPy library also contains matrix data structures and can be used to perform mathematical operations on arrays. NumPy can allow a wide variety of datatypes speedly. "
   ]
  },
  {
   "cell_type": "code",
   "execution_count": 67,
   "id": "7214d2fc",
   "metadata": {},
   "outputs": [],
   "source": [
    "# NumPy nasıl import edilecek?\n",
    "import numpy as np"
   ]
  },
  {
   "cell_type": "code",
   "execution_count": 70,
   "id": "9e4bde36",
   "metadata": {},
   "outputs": [
    {
     "name": "stdout",
     "output_type": "stream",
     "text": [
      "[1 2 3 4 5]\n"
     ]
    }
   ],
   "source": [
    "# Numpy dizileri oluşturma\n",
    "a = np.array([1,2,3,4,5])\n",
    "print(a)\n",
    "b = np.array([6,7,8,9,10])"
   ]
  },
  {
   "cell_type": "code",
   "execution_count": 71,
   "id": "fbdc0971",
   "metadata": {},
   "outputs": [
    {
     "name": "stdout",
     "output_type": "stream",
     "text": [
      "[ 6  7  8  9 10]\n"
     ]
    }
   ],
   "source": [
    "# Dizileri yazdırma\n",
    "print(b)"
   ]
  },
  {
   "cell_type": "code",
   "execution_count": 72,
   "id": "2e41e763",
   "metadata": {},
   "outputs": [
    {
     "name": "stdout",
     "output_type": "stream",
     "text": [
      "[ 7  9 11 13 15]\n"
     ]
    }
   ],
   "source": [
    "# Toplama işlemi\n",
    "c = a + b\n",
    "print(c)"
   ]
  },
  {
   "cell_type": "code",
   "execution_count": 73,
   "id": "7a3f424f",
   "metadata": {},
   "outputs": [
    {
     "name": "stdout",
     "output_type": "stream",
     "text": [
      "[-5 -5 -5 -5 -5]\n"
     ]
    }
   ],
   "source": [
    "# Çıkarma işlemi\n",
    "d = a - b\n",
    "print(d)"
   ]
  },
  {
   "cell_type": "code",
   "execution_count": 74,
   "id": "38bd7a1a",
   "metadata": {},
   "outputs": [
    {
     "name": "stdout",
     "output_type": "stream",
     "text": [
      "[ 6 14 24 36 50]\n"
     ]
    }
   ],
   "source": [
    "# Çarpma işlemi\n",
    "e = a * b\n",
    "print(e)"
   ]
  },
  {
   "cell_type": "code",
   "execution_count": 75,
   "id": "118fa629",
   "metadata": {},
   "outputs": [
    {
     "name": "stdout",
     "output_type": "stream",
     "text": [
      "[0.16666667 0.28571429 0.375      0.44444444 0.5       ]\n"
     ]
    }
   ],
   "source": [
    "# Bölme işlemi\n",
    "f = a / b\n",
    "print(f)"
   ]
  },
  {
   "cell_type": "code",
   "execution_count": 76,
   "id": "89896093",
   "metadata": {},
   "outputs": [
    {
     "name": "stdout",
     "output_type": "stream",
     "text": [
      "[1.         1.41421356 1.73205081 2.         2.23606798]\n"
     ]
    }
   ],
   "source": [
    "# Dizideki elemanların karekökü\n",
    "m = np.sqrt(a)\n",
    "print(m)"
   ]
  },
  {
   "cell_type": "code",
   "execution_count": 79,
   "id": "3041ebb6",
   "metadata": {},
   "outputs": [
    {
     "name": "stdout",
     "output_type": "stream",
     "text": [
      "10\n"
     ]
    }
   ],
   "source": [
    "# Dizideki maksimum değer\n",
    "i =  np.max(b)\n",
    "print(i)"
   ]
  },
  {
   "cell_type": "code",
   "execution_count": null,
   "id": "92ef720f",
   "metadata": {},
   "outputs": [],
   "source": [
    "# Dizideki minimum değer\n",
    "i =  np.min(b)\n",
    "print(i)"
   ]
  },
  {
   "cell_type": "code",
   "execution_count": 80,
   "id": "a9bb54a5",
   "metadata": {},
   "outputs": [
    {
     "name": "stdout",
     "output_type": "stream",
     "text": [
      "40\n"
     ]
    }
   ],
   "source": [
    "# Dizideki elemanların toplamı\n",
    "j =  np.sum(b)\n",
    "print(j)"
   ]
  },
  {
   "cell_type": "code",
   "execution_count": 81,
   "id": "721c3bd2",
   "metadata": {},
   "outputs": [
    {
     "name": "stdout",
     "output_type": "stream",
     "text": [
      "8.0\n"
     ]
    }
   ],
   "source": [
    "# Dizideki elemanların ortalaması\n",
    "k =  np.mean(b)\n",
    "print(k)"
   ]
  },
  {
   "cell_type": "code",
   "execution_count": 82,
   "id": "9986fd7d",
   "metadata": {},
   "outputs": [
    {
     "name": "stdout",
     "output_type": "stream",
     "text": [
      "1.4142135623730951\n"
     ]
    }
   ],
   "source": [
    "# Dizideki elemanların standart sapması\n",
    "l =  np.std(b)\n",
    "print(l)"
   ]
  },
  {
   "cell_type": "code",
   "execution_count": 83,
   "id": "525b9b6c",
   "metadata": {},
   "outputs": [
    {
     "name": "stdout",
     "output_type": "stream",
     "text": [
      "3.141592653589793\n"
     ]
    }
   ],
   "source": [
    "# π sayısı\n",
    "print(np.pi)"
   ]
  },
  {
   "cell_type": "markdown",
   "id": "caf162f2",
   "metadata": {},
   "source": [
    "## Diğer Dizi Oluşturma Yöntemleri:"
   ]
  },
  {
   "cell_type": "code",
   "execution_count": 15,
   "id": "14846e38",
   "metadata": {},
   "outputs": [
    {
     "name": "stdout",
     "output_type": "stream",
     "text": [
      "Zero array:  [[0. 0. 0.]\n",
      " [0. 0. 0.]]\n"
     ]
    }
   ],
   "source": [
    "# Sıfırlardan oluşan dizi oluşturma\n",
    "e = np.zeros((2, 3))\n",
    "print(\"Zero array: \", e)"
   ]
  },
  {
   "cell_type": "code",
   "execution_count": 16,
   "id": "90a93780",
   "metadata": {},
   "outputs": [
    {
     "name": "stdout",
     "output_type": "stream",
     "text": [
      "One array:  [[1. 1.]\n",
      " [1. 1.]\n",
      " [1. 1.]]\n"
     ]
    }
   ],
   "source": [
    "# Birlerden oluşan dizi oluşturma\n",
    "f = np.ones((3, 2))\n",
    "print(\"One array: \", f)"
   ]
  },
  {
   "cell_type": "code",
   "execution_count": 17,
   "id": "cb114670",
   "metadata": {},
   "outputs": [
    {
     "name": "stdout",
     "output_type": "stream",
     "text": [
      "Random array:  [[0.78516974 0.31039212]\n",
      " [0.73952264 0.76687061]]\n"
     ]
    }
   ],
   "source": [
    "# Rastgele sayılardan oluşan dizi oluşturma\n",
    "g = np.random.rand(2, 2)\n",
    "print(\"Random array: \", g)"
   ]
  },
  {
   "cell_type": "markdown",
   "id": "c1e9edd0",
   "metadata": {},
   "source": [
    "<img src=\"./Figures/sequence_as.gif\" align=\"left\"/>\n",
    "\n"
   ]
  },
  {
   "cell_type": "markdown",
   "id": "e259c583",
   "metadata": {},
   "source": [
    "**Syntax: np.arange(start, stop, step size)**\n",
    "\n",
    "The start represents the beginning of the iteration. By default, it is 0.\n",
    "\n",
    "The stop represents that the loop will iterate till stop-1. In other words, the stop value is exluded.\n",
    "\n",
    "The step size is used to skip the specific numbers from the iteration. It is optional to use. By default, the step size is 1."
   ]
  },
  {
   "cell_type": "code",
   "execution_count": null,
   "id": "e09c496c",
   "metadata": {},
   "outputs": [],
   "source": [
    "np.arange(10)"
   ]
  },
  {
   "cell_type": "code",
   "execution_count": null,
   "id": "cc415b54",
   "metadata": {},
   "outputs": [],
   "source": [
    "np.arange(1,10)"
   ]
  },
  {
   "cell_type": "code",
   "execution_count": 19,
   "id": "ebb5f6d9",
   "metadata": {},
   "outputs": [
    {
     "data": {
      "text/plain": [
       "array([0. , 0.2, 0.4, 0.6, 0.8, 1. , 1.2, 1.4, 1.6, 1.8, 2. , 2.2, 2.4,\n",
       "       2.6, 2.8, 3. , 3.2, 3.4, 3.6, 3.8, 4. , 4.2, 4.4, 4.6, 4.8, 5. ,\n",
       "       5.2, 5.4, 5.6, 5.8, 6. , 6.2, 6.4, 6.6, 6.8, 7. , 7.2, 7.4, 7.6,\n",
       "       7.8, 8. , 8.2, 8.4, 8.6, 8.8, 9. , 9.2, 9.4, 9.6, 9.8])"
      ]
     },
     "execution_count": 19,
     "metadata": {},
     "output_type": "execute_result"
    }
   ],
   "source": [
    "Tn = 20\n",
    "np.arange(0,10,Tn/100)"
   ]
  },
  {
   "cell_type": "code",
   "execution_count": 21,
   "id": "90702f23",
   "metadata": {},
   "outputs": [
    {
     "data": {
      "text/plain": [
       "array([20, 17, 14, 11,  8,  5,  2])"
      ]
     },
     "execution_count": 21,
     "metadata": {},
     "output_type": "execute_result"
    }
   ],
   "source": [
    "np.arange(20,0,-3)"
   ]
  },
  {
   "cell_type": "markdown",
   "id": "70ba32c7",
   "metadata": {},
   "source": [
    "### np.linspace()\n",
    "\n",
    "- it will create arrays with a specified number of elements, and spaced equally between the specified beginning and end values.\n",
    "\n",
    "- np.linspace(beginning value, end value, number of element)\n",
    "\n",
    "- number of element = space + 1\n",
    "\n",
    "- The end value is included"
   ]
  },
  {
   "cell_type": "code",
   "execution_count": 22,
   "id": "15eab116",
   "metadata": {},
   "outputs": [
    {
     "data": {
      "text/plain": [
       "array([1. , 1.6, 2.2, 2.8, 3.4, 4. ])"
      ]
     },
     "execution_count": 22,
     "metadata": {},
     "output_type": "execute_result"
    }
   ],
   "source": [
    "np.linspace(1, 4, 6) "
   ]
  },
  {
   "cell_type": "markdown",
   "id": "bfbe1370",
   "metadata": {},
   "source": [
    "### Length of series; len() \n",
    "\n",
    "- Number of elements in a series"
   ]
  },
  {
   "cell_type": "code",
   "execution_count": 23,
   "id": "43c0b30d",
   "metadata": {},
   "outputs": [
    {
     "name": "stdout",
     "output_type": "stream",
     "text": [
      "[ 3.    7.25 11.5  15.75 20.  ]\n",
      "5\n"
     ]
    }
   ],
   "source": [
    "x = np.linspace(3,20,5)\n",
    "print(x)\n",
    "print(len(x))"
   ]
  },
  {
   "cell_type": "markdown",
   "id": "3893b386",
   "metadata": {},
   "source": [
    "---\n",
    "\n",
    "<img src=\"./Figures/matrix.png\" align=\"left\"/>"
   ]
  },
  {
   "cell_type": "code",
   "execution_count": 32,
   "id": "4b571c6b",
   "metadata": {},
   "outputs": [
    {
     "name": "stdout",
     "output_type": "stream",
     "text": [
      "[[1 2 3 4 5]]\n"
     ]
    }
   ],
   "source": [
    "# Numpy dizileri oluşturma\n",
    "A = np.array([[1, 2, 3, 4, 5]])  # this is a rank=1 array\n",
    "print(A)"
   ]
  },
  {
   "cell_type": "code",
   "execution_count": 33,
   "id": "c08d1e8f",
   "metadata": {},
   "outputs": [
    {
     "name": "stdout",
     "output_type": "stream",
     "text": [
      "[[ 6]\n",
      " [ 7]\n",
      " [ 8]\n",
      " [ 9]\n",
      " [10]]\n"
     ]
    }
   ],
   "source": [
    "B = np.array([[6],[7],[8],[9],[10]])\n",
    "print(B)"
   ]
  },
  {
   "cell_type": "code",
   "execution_count": 34,
   "id": "beaea9b6",
   "metadata": {},
   "outputs": [
    {
     "name": "stdout",
     "output_type": "stream",
     "text": [
      "[[ 1  2  3  4]\n",
      " [ 5  6  7  8]\n",
      " [ 9 10 11 12]\n",
      " [13 14 15 16]\n",
      " [17 18 19 20]]\n",
      "[[ 1  2  3  4]\n",
      " [ 5  6  7  8]\n",
      " [ 9 10 11 12]\n",
      " [13 14 15 16]\n",
      " [17 18 19 20]]\n"
     ]
    }
   ],
   "source": [
    "C = np.array([ [1, 2, 3, 4], [5, 6, 7, 8], [9,10,11,12], [13,14,15,16], [17,18,19,20] ])\n",
    "print(C)\n",
    "\n",
    "# yada\n",
    "\n",
    "C = np.array([[1, 2, 3, 4], \\\n",
    "              [5, 6, 7, 8], \\\n",
    "              [9,10,11,12], \\\n",
    "              [13,14,15,16],\\\n",
    "              [17,18,19,20]])\n",
    "print(C)"
   ]
  },
  {
   "cell_type": "code",
   "execution_count": 35,
   "id": "cf0eb7e4",
   "metadata": {},
   "outputs": [
    {
     "name": "stdout",
     "output_type": "stream",
     "text": [
      "Shape of A:  (1, 5)\n",
      "Shape of B:  (5, 1)\n",
      "Shape of C:  (5, 4)\n"
     ]
    }
   ],
   "source": [
    "# Dizinin boyutunu yazdırma\n",
    "print(\"Shape of A: \", A.shape)\n",
    "print(\"Shape of B: \", B.shape)\n",
    "print(\"Shape of C: \", C.shape)"
   ]
  },
  {
   "cell_type": "code",
   "execution_count": 38,
   "id": "4d10dfdf",
   "metadata": {},
   "outputs": [
    {
     "name": "stdout",
     "output_type": "stream",
     "text": [
      "[[ 6  7  8  9 10]]\n",
      "[[ 6]\n",
      " [ 7]\n",
      " [ 8]\n",
      " [ 9]\n",
      " [10]]\n",
      "[[ 6]\n",
      " [ 7]\n",
      " [ 8]\n",
      " [ 9]\n",
      " [10]]\n"
     ]
    }
   ],
   "source": [
    "# Dizinin transpozunu alma\n",
    "B = np.array([[6,7,8,9,10]])\n",
    "print(B)\n",
    "print(B.T)\n",
    "print(B.transpose())"
   ]
  },
  {
   "cell_type": "code",
   "execution_count": 40,
   "id": "6ed76d09",
   "metadata": {},
   "outputs": [
    {
     "name": "stdout",
     "output_type": "stream",
     "text": [
      "A . C:  [[175 190 205 220]]\n"
     ]
    }
   ],
   "source": [
    "# İki dizinin nokta çarpımı (matris çarpım)\n",
    "g = np.dot(A, C)\n",
    "print(\"A . C: \", g)"
   ]
  },
  {
   "cell_type": "markdown",
   "id": "6b61bb49",
   "metadata": {},
   "source": [
    "## Bir dizinin elemanlarına erişmek\n",
    "\n",
    "Syntax: matrixName[i, j], \n",
    "\n",
    "where, i: row index starts from 0 and j: column index stars form 0.\n",
    "\n",
    "<img src=\"./Figures/matrixc.png\" align=\"left\"/>"
   ]
  },
  {
   "cell_type": "code",
   "execution_count": 26,
   "id": "8c690b47",
   "metadata": {},
   "outputs": [
    {
     "name": "stdout",
     "output_type": "stream",
     "text": [
      "[[ 1  2  3  4]\n",
      " [ 5  6  7  8]\n",
      " [ 9 10 11 12]\n",
      " [13 14 15 16]\n",
      " [17 18 19 20]]\n"
     ]
    }
   ],
   "source": [
    "C = np.array([ [1, 2, 3, 4], [5, 6, 7, 8], [9,10,11,12], [13,14,15,16], [17,18,19,20] ])\n",
    "print(C)"
   ]
  },
  {
   "cell_type": "code",
   "execution_count": 27,
   "id": "56b36f5d",
   "metadata": {},
   "outputs": [
    {
     "name": "stdout",
     "output_type": "stream",
     "text": [
      "15\n"
     ]
    }
   ],
   "source": [
    "# Element value at 4th row, 3nd column:\n",
    "print(C[3,2])"
   ]
  },
  {
   "cell_type": "code",
   "execution_count": 28,
   "id": "d68ef409",
   "metadata": {},
   "outputs": [
    {
     "name": "stdout",
     "output_type": "stream",
     "text": [
      "[ 9 10 11 12]\n"
     ]
    }
   ],
   "source": [
    "# Print 3rd row:\n",
    "print(C[2])"
   ]
  },
  {
   "cell_type": "code",
   "execution_count": 29,
   "id": "f9877a6e",
   "metadata": {},
   "outputs": [
    {
     "name": "stdout",
     "output_type": "stream",
     "text": [
      "[ 2  6 10 14 18]\n"
     ]
    }
   ],
   "source": [
    "# Print 2nd column:\n",
    "print(C[: , 1])"
   ]
  },
  {
   "cell_type": "code",
   "execution_count": 30,
   "id": "8a421cc7",
   "metadata": {},
   "outputs": [
    {
     "name": "stdout",
     "output_type": "stream",
     "text": [
      "[[ 5  6  7  8]\n",
      " [ 9 10 11 12]\n",
      " [13 14 15 16]]\n"
     ]
    }
   ],
   "source": [
    "# Print 2nd, 3rd and 4th rows:\n",
    "print(C[1:4])"
   ]
  },
  {
   "cell_type": "code",
   "execution_count": 31,
   "id": "c6ba5df9",
   "metadata": {},
   "outputs": [
    {
     "name": "stdout",
     "output_type": "stream",
     "text": [
      "[[ 2  3]\n",
      " [ 6  7]\n",
      " [10 11]\n",
      " [14 15]\n",
      " [18 19]]\n"
     ]
    }
   ],
   "source": [
    "# Print 2nd and 3rd columns:\n",
    "print(C[: , 1:3])"
   ]
  },
  {
   "cell_type": "markdown",
   "id": "d1782ce2",
   "metadata": {},
   "source": [
    "---\n",
    "\n",
    "<img src=\"./Figures/matplotlib.jpg\" align=\"left\"/>"
   ]
  },
  {
   "cell_type": "code",
   "execution_count": 24,
   "id": "0871ceab",
   "metadata": {},
   "outputs": [
    {
     "data": {
      "image/png": "[encoded data removed]",
      "text/plain": [
       "<Figure size 640x480 with 1 Axes>"
      ]
     },
     "metadata": {},
     "output_type": "display_data"
    }
   ],
   "source": [
    "# Visualization with Python\n",
    "import matplotlib.pyplot as plt\n",
    "import numpy as np\n",
    "\n",
    "# Veri dizileri oluşturma\n",
    "x = np.array([1, 2, 3, 4, 5])\n",
    "y = np.array([3, 4, 7, 8, 11])\n",
    "\n",
    "# Grafik penceresi oluşturma\n",
    "plt.figure()\n",
    "\n",
    "# Grafik çizimi\n",
    "plt.plot(x, y, color=\"red\", linestyle=\"--\", marker=\"o\")\n",
    "\n",
    "# Grafik başlığı ve eksen isimleri\n",
    "plt.title(\"Line Plot\")\n",
    "plt.xlabel(\"X Axis\")\n",
    "plt.ylabel(\"Y Axis\")\n",
    "\n",
    "# Grafik gösterimi\n",
    "plt.show()\n"
   ]
  }
 ],
 "metadata": {
  "hide_input": false,
  "kernelspec": {
   "display_name": "Python 3 (ipykernel)",
   "language": "python",
   "name": "python3"
  },
  "language_info": {
   "codemirror_mode": {
    "name": "ipython",
    "version": 3
   },
   "file_extension": ".py",
   "mimetype": "text/x-python",
   "name": "python",
   "nbconvert_exporter": "python",
   "pygments_lexer": "ipython3",
   "version": "3.9.13"
  },
  "varInspector": {
   "cols": {
    "lenName": 16,
    "lenType": 16,
    "lenVar": 40
   },
   "kernels_config": {
    "python": {
     "delete_cmd_postfix": "",
     "delete_cmd_prefix": "del ",
     "library": "var_list.py",
     "varRefreshCmd": "print(var_dic_list())"
    },
    "r": {
     "delete_cmd_postfix": ") ",
     "delete_cmd_prefix": "rm(",
     "library": "var_list.r",
     "varRefreshCmd": "cat(var_dic_list()) "
    }
   },
   "types_to_exclude": [
    "module",
    "function",
    "builtin_function_or_method",
    "instance",
    "_Feature"
   ],
   "window_display": false
  }
 },
 "nbformat": 4,
 "nbformat_minor": 5
}
