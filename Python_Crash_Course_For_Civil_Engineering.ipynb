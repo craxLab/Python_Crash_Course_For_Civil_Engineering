{
 "cells": [
  {
   "cell_type": "markdown",
   "id": "1c604853",
   "metadata": {},
   "source": [
    "## Python Crash Course For Civil Engineering\n",
    "### Dr. Aydın DEMİR \n",
    "www.aydindemir.com | instagram: @dr.aydindemir\n",
    "\n",
    "#### GitHub Page of the course:\n",
    "\n",
    "GitHub: @craxLab   | https://github.com/CraxLab\n",
    "\n",
    "Instagram: @craxLab  | https://instagram.com/CraxLab\n",
    "\n",
    "---"
   ]
  },
  {
   "cell_type": "markdown",
   "id": "6870001d",
   "metadata": {},
   "source": [
    "---\n",
    "## Launching Python \n",
    "\n",
    "There are several interfaces that allows us to use Python interactively. IPython, Jupyter, Anaconda spyder are among some of them. \n",
    "\n",
    "We will use **Jupyter** in this class.\n",
    "\n",
    "<img src=\"./Figures/jupyter.png\" width=\"200\" height=\"200\" align=\"left\"/> <br> \n",
    "https://jupyter.org/\n",
    "<br> \n",
    "\n",
    "---\n",
    "Jupyter is an open source web application that uses a browserbased interface and it is one of the many possible ways to interact with Python and the scientific libraries. \n",
    "\n",
    "You can :\n",
    "\n",
    "• create and share documents,\n",
    "\n",
    "• write and execute Python code,\n",
    "\n",
    "• include tables, figures, equation, visualizations, etc. with Jupyter which is fast processor in the scientific computing algorithms.\n",
    "\n",
    "https://www.youtube.com/watch?v=3C9E2yPBw7s\n",
    "\n",
    "\n",
    "### Installing Jupyter:\n",
    "<img src=\"./Figures/anaconda.png\" width=\"240\" height=\"130\" align=\"left\"/> \n",
    "\n",
    "https://www.anaconda.com/\n",
    "\n",
    "https://www.youtube.com/watch?v=5mDYijMfSzs"
   ]
  },
  {
   "cell_type": "markdown",
   "id": "074ab539",
   "metadata": {},
   "source": [
    "---\n",
    "\n",
    "***Ekrana Sakarya yazdıralım:***\n",
    "\n",
    "Execution of the codes\n",
    "\n",
    "Shift + Enter --> execute cell and jump to the next one\n",
    "\n",
    "Ctrl + Enter --> execute cell and don't jump to the next cell"
   ]
  },
  {
   "cell_type": "code",
   "execution_count": 93,
   "id": "35b1c31d",
   "metadata": {},
   "outputs": [
    {
     "ename": "NameError",
     "evalue": "name 'Sakarya' is not defined",
     "output_type": "error",
     "traceback": [
      "\u001b[1;31m---------------------------------------------------------------------------\u001b[0m",
      "\u001b[1;31mNameError\u001b[0m                                 Traceback (most recent call last)",
      "\u001b[1;32m~\\AppData\\Local\\Temp\\ipykernel_9616\\2637822637.py\u001b[0m in \u001b[0;36m<module>\u001b[1;34m\u001b[0m\n\u001b[1;32m----> 1\u001b[1;33m \u001b[0mSakarya\u001b[0m\u001b[1;33m\u001b[0m\u001b[1;33m\u001b[0m\u001b[0m\n\u001b[0m",
      "\u001b[1;31mNameError\u001b[0m: name 'Sakarya' is not defined"
     ]
    }
   ],
   "source": [
    "Sakarya"
   ]
  },
  {
   "cell_type": "code",
   "execution_count": 94,
   "id": "f4e07703",
   "metadata": {},
   "outputs": [
    {
     "name": "stdout",
     "output_type": "stream",
     "text": [
      "Sakarya\n"
     ]
    }
   ],
   "source": [
    "print(\"Sakarya\")"
   ]
  },
  {
   "cell_type": "code",
   "execution_count": 96,
   "id": "6bcafd7c",
   "metadata": {},
   "outputs": [],
   "source": [
    "# Comment line\n",
    "# print(\"Sakarya\")"
   ]
  },
  {
   "cell_type": "markdown",
   "id": "346c03e9",
   "metadata": {},
   "source": [
    "# Değişkenler\n",
    "\n",
    "![](./Figures/variables3.png)"
   ]
  },
  {
   "cell_type": "code",
   "execution_count": 7,
   "id": "04147996",
   "metadata": {},
   "outputs": [
    {
     "name": "stdout",
     "output_type": "stream",
     "text": [
      "50\n",
      "100\n"
     ]
    }
   ],
   "source": [
    "a = 50\n",
    "b = 100\n",
    "\n",
    "print(a)\n",
    "print(b)"
   ]
  },
  {
   "cell_type": "markdown",
   "id": "096f6de5",
   "metadata": {},
   "source": [
    "### İşleçler"
   ]
  },
  {
   "cell_type": "code",
   "execution_count": 8,
   "id": "e4b060d4",
   "metadata": {},
   "outputs": [
    {
     "name": "stdout",
     "output_type": "stream",
     "text": [
      "150\n",
      "5000\n",
      "0.5\n",
      "2500\n"
     ]
    }
   ],
   "source": [
    "print(a + b) # toplama işlemi\n",
    "print(a - b) # çıkarma işlemi\n",
    "print(a * b) # çarpma işlemi\n",
    "print(a / b) # bölme işlemi\n",
    "print(a ** 2) # üs alma işlemi"
   ]
  },
  {
   "cell_type": "markdown",
   "id": "b8523fe6",
   "metadata": {},
   "source": [
    "**Order of Operations**\n",
    "\n",
    "<img src=\"./Figures/order-of-operations.png\" align=\"left\"/>"
   ]
  },
  {
   "cell_type": "markdown",
   "id": "e9a47077",
   "metadata": {},
   "source": [
    "***Example:***\n",
    "\n",
    "What is the correct answer?\n",
    "\n",
    "8 ÷ 2 x (2 + 2) = ? \n",
    "\n",
    "1 or 16 ???"
   ]
  },
  {
   "cell_type": "code",
   "execution_count": 71,
   "id": "735c274d",
   "metadata": {},
   "outputs": [
    {
     "data": {
      "text/plain": [
       "16.0"
      ]
     },
     "execution_count": 71,
     "metadata": {},
     "output_type": "execute_result"
    }
   ],
   "source": [
    "8/2*(2+2)"
   ]
  },
  {
   "cell_type": "markdown",
   "id": "62b4fdd3",
   "metadata": {},
   "source": [
    "# Veri Yapıları\n",
    "\n",
    "<img src=\"./Figures/Datatypes-in-python2.png\" align=\"left\"/>\n",
    "\n",
    "Source: https://www.javatpoint.com/python-data-types"
   ]
  },
  {
   "cell_type": "markdown",
   "id": "4c2fddee",
   "metadata": {},
   "source": [
    "### Veri Tipleri"
   ]
  },
  {
   "cell_type": "code",
   "execution_count": null,
   "id": "bca90aa0",
   "metadata": {},
   "outputs": [],
   "source": [
    "x = \"Python\" # Metin\n",
    "y = 3.14     # Sayı\n",
    "z = True     # Mantıksal"
   ]
  },
  {
   "cell_type": "markdown",
   "id": "955b07b6",
   "metadata": {},
   "source": [
    "### Listeler (list)"
   ]
  },
  {
   "cell_type": "code",
   "execution_count": 9,
   "id": "7ee5c71f",
   "metadata": {},
   "outputs": [
    {
     "name": "stdout",
     "output_type": "stream",
     "text": [
      "[1, 2, 3, 4, 5]\n"
     ]
    }
   ],
   "source": [
    "liste = [1, 2, 3, 4, 5]\n",
    "print(liste)"
   ]
  },
  {
   "cell_type": "markdown",
   "id": "1232bdc8",
   "metadata": {},
   "source": [
    "### Sözlükler (dictionary)"
   ]
  },
  {
   "cell_type": "code",
   "execution_count": 10,
   "id": "9758ee4a",
   "metadata": {},
   "outputs": [
    {
     "name": "stdout",
     "output_type": "stream",
     "text": [
      "{'anahtar1': 'deger1', 'anahtar2': 'deger2'}\n"
     ]
    }
   ],
   "source": [
    "sozluk = {\"anahtar1\": \"deger1\", \"anahtar2\": \"deger2\"}\n",
    "print(sozluk)"
   ]
  },
  {
   "cell_type": "code",
   "execution_count": 12,
   "id": "4b136a4f",
   "metadata": {},
   "outputs": [
    {
     "name": "stdout",
     "output_type": "stream",
     "text": [
      "{'h': 150, 'b': 250}\n"
     ]
    }
   ],
   "source": [
    "profil = {\"h\":150, \"b\":250}\n",
    "print(profil)"
   ]
  },
  {
   "cell_type": "markdown",
   "id": "2ecc9a72",
   "metadata": {},
   "source": [
    "### Demetler (tuple)"
   ]
  },
  {
   "cell_type": "code",
   "execution_count": 11,
   "id": "73ae2379",
   "metadata": {},
   "outputs": [
    {
     "name": "stdout",
     "output_type": "stream",
     "text": [
      "(1, 2, 3, 4, 5)\n"
     ]
    }
   ],
   "source": [
    "demet = (1, 2, 3, 4, 5)\n",
    "print(demet)"
   ]
  },
  {
   "cell_type": "markdown",
   "id": "f9517ae9",
   "metadata": {},
   "source": [
    "### Kümeler (set)"
   ]
  },
  {
   "cell_type": "markdown",
   "id": "e83de07d",
   "metadata": {},
   "source": [
    "kume = {1, 2, 3, 4, 5}\n",
    "print(kume)"
   ]
  },
  {
   "cell_type": "markdown",
   "id": "faa0d5ec",
   "metadata": {},
   "source": [
    "## Index Operator\n",
    "\n",
    "* An index operator **[ ]** can be used to access the elements of a list. \n",
    "\n",
    "* Index starts with **0** and must be an <font color=red>integer</font>.\n",
    "\n",
    "* If you access the index number out of the range it will cause <font color=red>IndexError</font>; \n",
    "\n",
    "* if you use float or other types, it will cause <font color=red>TypeError</font> will occur.\n",
    "\n",
    "***Syntax:*** [Start_index : Finish_index+1 : Increment]\n",
    "\n",
    "### Example:\n",
    "\n",
    "<img src=\"./Figures/civil_engineer.jpg\" align=\"left\"/>"
   ]
  },
  {
   "cell_type": "code",
   "execution_count": 84,
   "id": "1c3b2116",
   "metadata": {},
   "outputs": [
    {
     "name": "stdout",
     "output_type": "stream",
     "text": [
      "['IPN120', 'IPN140', 'IPN160', 'IPN180', 'IPN200', 'IPN220', 'IPN240']\n"
     ]
    }
   ],
   "source": [
    "profil = [\"IPN120\", \"IPN140\",\"IPN160\",\"IPN180\",\"IPN200\",\"IPN220\",\"IPN240\"]\n",
    "print(profil)"
   ]
  },
  {
   "cell_type": "code",
   "execution_count": 85,
   "id": "d9bc1749",
   "metadata": {},
   "outputs": [
    {
     "name": "stdout",
     "output_type": "stream",
     "text": [
      "IPN120\n"
     ]
    }
   ],
   "source": [
    "# access first item:\n",
    "print(profil[0])"
   ]
  },
  {
   "cell_type": "code",
   "execution_count": 83,
   "id": "8bf7795f",
   "metadata": {},
   "outputs": [
    {
     "ename": "KeyError",
     "evalue": "4",
     "output_type": "error",
     "traceback": [
      "\u001b[1;31m---------------------------------------------------------------------------\u001b[0m",
      "\u001b[1;31mKeyError\u001b[0m                                  Traceback (most recent call last)",
      "\u001b[1;32m~\\AppData\\Local\\Temp\\ipykernel_9616\\1905631694.py\u001b[0m in \u001b[0;36m<module>\u001b[1;34m\u001b[0m\n\u001b[0;32m      1\u001b[0m \u001b[1;31m# access 5th item:\u001b[0m\u001b[1;33m\u001b[0m\u001b[1;33m\u001b[0m\u001b[0m\n\u001b[1;32m----> 2\u001b[1;33m \u001b[0mprint\u001b[0m\u001b[1;33m(\u001b[0m\u001b[0mprofil\u001b[0m\u001b[1;33m[\u001b[0m\u001b[1;36m4\u001b[0m\u001b[1;33m]\u001b[0m\u001b[1;33m)\u001b[0m\u001b[1;33m\u001b[0m\u001b[1;33m\u001b[0m\u001b[0m\n\u001b[0m",
      "\u001b[1;31mKeyError\u001b[0m: 4"
     ]
    }
   ],
   "source": [
    "# access 5th item:\n",
    "print(profil[4])"
   ]
  },
  {
   "cell_type": "code",
   "execution_count": 86,
   "id": "93bf33f9",
   "metadata": {},
   "outputs": [
    {
     "name": "stdout",
     "output_type": "stream",
     "text": [
      "IPN160\n"
     ]
    }
   ],
   "source": [
    "# access reversed 5th item\n",
    "print(profil[-5])"
   ]
  },
  {
   "cell_type": "code",
   "execution_count": 89,
   "id": "38edf51e",
   "metadata": {},
   "outputs": [
    {
     "name": "stdout",
     "output_type": "stream",
     "text": [
      "['IPN140', 'IPN160', 'IPN180']\n"
     ]
    }
   ],
   "source": [
    "# access from 2nd item to 5th item (5th not included)\n",
    "print(profil[1:4])"
   ]
  },
  {
   "cell_type": "code",
   "execution_count": 90,
   "id": "e7bbaf60",
   "metadata": {},
   "outputs": [
    {
     "name": "stdout",
     "output_type": "stream",
     "text": [
      "['IPN140', 'IPN180', 'IPN220']\n"
     ]
    }
   ],
   "source": [
    "# access from 2nd item to 6th item with increment 2 (6th included)\n",
    "print(profil[1:7:2])"
   ]
  },
  {
   "cell_type": "markdown",
   "id": "d1ee761d",
   "metadata": {},
   "source": [
    "# Koşullu İfadeler"
   ]
  },
  {
   "cell_type": "code",
   "execution_count": 91,
   "id": "a9157ed3",
   "metadata": {},
   "outputs": [
    {
     "name": "stdout",
     "output_type": "stream",
     "text": [
      "a eşittir b\n"
     ]
    }
   ],
   "source": [
    "# if-elif-else\n",
    "a = 10\n",
    "b = 10\n",
    "\n",
    "if a > b:\n",
    "    print(\"a büyüktür b\")\n",
    "    \n",
    "elif a == b:\n",
    "    print(\"a eşittir b\")\n",
    "    \n",
    "else:\n",
    "    print(\"a küçüktür b\")"
   ]
  },
  {
   "cell_type": "markdown",
   "id": "b787cbf2",
   "metadata": {},
   "source": [
    "# Döngüler"
   ]
  },
  {
   "cell_type": "markdown",
   "id": "dbfb4a55",
   "metadata": {},
   "source": [
    "### For döngüsü"
   ]
  },
  {
   "cell_type": "code",
   "execution_count": 17,
   "id": "71bcf2d0",
   "metadata": {},
   "outputs": [
    {
     "name": "stdout",
     "output_type": "stream",
     "text": [
      "0\n",
      "1\n",
      "2\n",
      "3\n",
      "4\n",
      "5\n",
      "6\n",
      "7\n",
      "8\n",
      "9\n"
     ]
    }
   ],
   "source": [
    "for i in range(10):\n",
    "    print(i)"
   ]
  },
  {
   "cell_type": "markdown",
   "id": "cd97f477",
   "metadata": {},
   "source": [
    "### While döngüsü"
   ]
  },
  {
   "cell_type": "code",
   "execution_count": 18,
   "id": "7b7bd022",
   "metadata": {},
   "outputs": [
    {
     "name": "stdout",
     "output_type": "stream",
     "text": [
      "0\n",
      "1\n",
      "2\n",
      "3\n",
      "4\n",
      "5\n",
      "6\n",
      "7\n",
      "8\n",
      "9\n"
     ]
    }
   ],
   "source": [
    "i = 0\n",
    "while i < 10:\n",
    "    print(i)\n",
    "    i += 1"
   ]
  },
  {
   "cell_type": "markdown",
   "id": "102333f8",
   "metadata": {},
   "source": [
    "# Fonksiyonlar"
   ]
  },
  {
   "cell_type": "code",
   "execution_count": 72,
   "id": "fac75410",
   "metadata": {},
   "outputs": [
    {
     "name": "stdout",
     "output_type": "stream",
     "text": [
      "5\n"
     ]
    }
   ],
   "source": [
    "def toplama(x, y):\n",
    "    return x + y\n",
    "\n",
    "print(toplama(2, 3)) # 2 ve 3'ün toplamı"
   ]
  },
  {
   "cell_type": "markdown",
   "id": "3cd5be6c",
   "metadata": {},
   "source": [
    "# Dosya İşlemleri"
   ]
  },
  {
   "cell_type": "markdown",
   "id": "2625346f",
   "metadata": {},
   "source": [
    "### Dosya okuma işlemi"
   ]
  },
  {
   "cell_type": "code",
   "execution_count": null,
   "id": "bfc66934",
   "metadata": {},
   "outputs": [],
   "source": [
    "with open(\"test.txt\", \"r\") as f:\n",
    "    veri = f.read()\n",
    "    print(veri)"
   ]
  },
  {
   "cell_type": "markdown",
   "id": "99b08217",
   "metadata": {},
   "source": [
    "### Dosya yazma işlemi"
   ]
  },
  {
   "cell_type": "code",
   "execution_count": null,
   "id": "b3f963cc",
   "metadata": {},
   "outputs": [],
   "source": [
    "with open(\"test.txt\", \"w\") as f:\n",
    "    f.write(\"Merhaba Dünya!\")"
   ]
  },
  {
   "cell_type": "markdown",
   "id": "2f45cf4f",
   "metadata": {},
   "source": [
    "---\n",
    "\n",
    "# Modüller"
   ]
  },
  {
   "cell_type": "markdown",
   "id": "2db6eb77",
   "metadata": {},
   "source": [
    "### Random modülü"
   ]
  },
  {
   "cell_type": "code",
   "execution_count": 21,
   "id": "ac9c723c",
   "metadata": {},
   "outputs": [
    {
     "name": "stdout",
     "output_type": "stream",
     "text": [
      "7\n"
     ]
    }
   ],
   "source": [
    "# Import random module\n",
    "import random\n",
    "\n",
    "print(random.randint(1, 10)) # 1-10 arasında rastgele sayı üretme"
   ]
  },
  {
   "cell_type": "markdown",
   "id": "16fbfd85",
   "metadata": {},
   "source": [
    "<img src=\"./Figures/numpy.png\" width=\"240\" height=\"130\" align=\"left\"/>"
   ]
  },
  {
   "cell_type": "code",
   "execution_count": 22,
   "id": "7214d2fc",
   "metadata": {},
   "outputs": [],
   "source": [
    "# NumPy nasıl import edilecek?\n",
    "import numpy as np"
   ]
  },
  {
   "cell_type": "code",
   "execution_count": 25,
   "id": "9e4bde36",
   "metadata": {},
   "outputs": [],
   "source": [
    "# Numpy dizileri oluşturma\n",
    "a = np.array([1, 2, 3])\n",
    "b = np.array([4, 5, 6])"
   ]
  },
  {
   "cell_type": "code",
   "execution_count": 28,
   "id": "fbdc0971",
   "metadata": {},
   "outputs": [
    {
     "name": "stdout",
     "output_type": "stream",
     "text": [
      "a: [1 2 3]\n",
      "b: [4 5 6]\n"
     ]
    }
   ],
   "source": [
    "# Dizileri yazdırma\n",
    "print(\"a:\", a)\n",
    "print(\"b:\", b)"
   ]
  },
  {
   "cell_type": "code",
   "execution_count": 29,
   "id": "2e41e763",
   "metadata": {},
   "outputs": [
    {
     "name": "stdout",
     "output_type": "stream",
     "text": [
      "a + b:  [5 7 9]\n"
     ]
    }
   ],
   "source": [
    "# Toplama işlemi\n",
    "c = a + b\n",
    "print(\"a + b: \", c)"
   ]
  },
  {
   "cell_type": "code",
   "execution_count": 30,
   "id": "7a3f424f",
   "metadata": {},
   "outputs": [
    {
     "name": "stdout",
     "output_type": "stream",
     "text": [
      "a - b:  [-3 -3 -3]\n"
     ]
    }
   ],
   "source": [
    "# Çıkarma işlemi\n",
    "d = a - b\n",
    "print(\"a - b: \", d)"
   ]
  },
  {
   "cell_type": "code",
   "execution_count": 31,
   "id": "38bd7a1a",
   "metadata": {},
   "outputs": [
    {
     "name": "stdout",
     "output_type": "stream",
     "text": [
      "a * b:  [ 4 10 18]\n"
     ]
    }
   ],
   "source": [
    "# Çarpma işlemi\n",
    "e = a * b\n",
    "print(\"a * b: \", e)"
   ]
  },
  {
   "cell_type": "code",
   "execution_count": 32,
   "id": "118fa629",
   "metadata": {},
   "outputs": [
    {
     "name": "stdout",
     "output_type": "stream",
     "text": [
      "a / b:  [0.25 0.4  0.5 ]\n"
     ]
    }
   ],
   "source": [
    "# Bölme işlemi\n",
    "f = a / b\n",
    "print(\"a / b: \", f)"
   ]
  },
  {
   "cell_type": "code",
   "execution_count": 40,
   "id": "89896093",
   "metadata": {},
   "outputs": [
    {
     "name": "stdout",
     "output_type": "stream",
     "text": [
      "sqrt(a):  [1.         1.41421356 1.73205081]\n"
     ]
    }
   ],
   "source": [
    "# Dizideki elemanların karekökü\n",
    "m = np.sqrt(a)\n",
    "print(\"sqrt(a): \", m)"
   ]
  },
  {
   "cell_type": "code",
   "execution_count": 35,
   "id": "3041ebb6",
   "metadata": {},
   "outputs": [
    {
     "name": "stdout",
     "output_type": "stream",
     "text": [
      "max(a):  3\n"
     ]
    }
   ],
   "source": [
    "# Dizideki maksimum değer\n",
    "h = np.max(a)\n",
    "print(\"max(a): \", h)"
   ]
  },
  {
   "cell_type": "code",
   "execution_count": 36,
   "id": "92ef720f",
   "metadata": {},
   "outputs": [
    {
     "name": "stdout",
     "output_type": "stream",
     "text": [
      "min(a):  1\n"
     ]
    }
   ],
   "source": [
    "# Dizideki minimum değer\n",
    "i = np.min(a)\n",
    "print(\"min(a): \", i)"
   ]
  },
  {
   "cell_type": "code",
   "execution_count": 37,
   "id": "a9bb54a5",
   "metadata": {},
   "outputs": [
    {
     "name": "stdout",
     "output_type": "stream",
     "text": [
      "sum(a):  6\n"
     ]
    }
   ],
   "source": [
    "# Dizideki elemanların toplamı\n",
    "j = np.sum(a)\n",
    "print(\"sum(a): \", j)"
   ]
  },
  {
   "cell_type": "code",
   "execution_count": 38,
   "id": "721c3bd2",
   "metadata": {},
   "outputs": [
    {
     "name": "stdout",
     "output_type": "stream",
     "text": [
      "mean(a):  2.0\n"
     ]
    }
   ],
   "source": [
    "# Dizideki elemanların ortalaması\n",
    "k = np.mean(a)\n",
    "print(\"mean(a): \", k)"
   ]
  },
  {
   "cell_type": "code",
   "execution_count": 39,
   "id": "9986fd7d",
   "metadata": {},
   "outputs": [
    {
     "name": "stdout",
     "output_type": "stream",
     "text": [
      "std(a):  0.816496580927726\n"
     ]
    }
   ],
   "source": [
    "# Dizideki elemanların standart sapması\n",
    "l = np.std(a)\n",
    "print(\"std(a): \", l)"
   ]
  },
  {
   "cell_type": "code",
   "execution_count": 41,
   "id": "525b9b6c",
   "metadata": {},
   "outputs": [
    {
     "data": {
      "text/plain": [
       "3.141592653589793"
      ]
     },
     "execution_count": 41,
     "metadata": {},
     "output_type": "execute_result"
    }
   ],
   "source": [
    "# π sayısı\n",
    "np.pi"
   ]
  },
  {
   "cell_type": "markdown",
   "id": "caf162f2",
   "metadata": {},
   "source": [
    "## Diğer Dizi Oluşturma Yöntemleri:"
   ]
  },
  {
   "cell_type": "code",
   "execution_count": null,
   "id": "14846e38",
   "metadata": {},
   "outputs": [],
   "source": [
    "# Sıfırlardan oluşan dizi oluşturma\n",
    "e = np.zeros((2, 3))\n",
    "print(\"Zero array: \", e)"
   ]
  },
  {
   "cell_type": "code",
   "execution_count": null,
   "id": "90a93780",
   "metadata": {},
   "outputs": [],
   "source": [
    "# Birlerden oluşan dizi oluşturma\n",
    "f = np.ones((3, 2))\n",
    "print(\"One array: \", f)"
   ]
  },
  {
   "cell_type": "code",
   "execution_count": null,
   "id": "cb114670",
   "metadata": {},
   "outputs": [],
   "source": [
    "# Rastgele sayılardan oluşan dizi oluşturma\n",
    "g = np.random.rand(2, 2)\n",
    "print(\"Random array: \", g)"
   ]
  },
  {
   "cell_type": "markdown",
   "id": "c1e9edd0",
   "metadata": {},
   "source": [
    "<img src=\"./Figures/sequence_as.gif\" align=\"left\"/>\n",
    "\n"
   ]
  },
  {
   "cell_type": "markdown",
   "id": "e259c583",
   "metadata": {},
   "source": [
    "**Syntax: np.arange(start, stop, step size)**\n",
    "\n",
    "The start represents the beginning of the iteration. By default, it is 0.\n",
    "\n",
    "The stop represents that the loop will iterate till stop-1. In other words, the stop value is exluded.\n",
    "\n",
    "The step size is used to skip the specific numbers from the iteration. It is optional to use. By default, the step size is 1."
   ]
  },
  {
   "cell_type": "code",
   "execution_count": 73,
   "id": "e09c496c",
   "metadata": {},
   "outputs": [
    {
     "data": {
      "text/plain": [
       "array([0, 1, 2, 3, 4, 5, 6, 7, 8, 9])"
      ]
     },
     "execution_count": 73,
     "metadata": {},
     "output_type": "execute_result"
    }
   ],
   "source": [
    "np.arange(10)"
   ]
  },
  {
   "cell_type": "code",
   "execution_count": 74,
   "id": "cc415b54",
   "metadata": {},
   "outputs": [
    {
     "data": {
      "text/plain": [
       "array([1, 2, 3, 4, 5, 6, 7, 8, 9])"
      ]
     },
     "execution_count": 74,
     "metadata": {},
     "output_type": "execute_result"
    }
   ],
   "source": [
    "np.arange(1,10)"
   ]
  },
  {
   "cell_type": "code",
   "execution_count": 75,
   "id": "ebb5f6d9",
   "metadata": {},
   "outputs": [
    {
     "data": {
      "text/plain": [
       "array([0., 2., 4., 6., 8.])"
      ]
     },
     "execution_count": 75,
     "metadata": {},
     "output_type": "execute_result"
    }
   ],
   "source": [
    "Tn = 20\n",
    "np.arange(0,10,Tn/10)"
   ]
  },
  {
   "cell_type": "code",
   "execution_count": 76,
   "id": "90702f23",
   "metadata": {},
   "outputs": [
    {
     "data": {
      "text/plain": [
       "array([10,  7,  4,  1])"
      ]
     },
     "execution_count": 76,
     "metadata": {},
     "output_type": "execute_result"
    }
   ],
   "source": [
    "np.arange(10,0,-3)"
   ]
  },
  {
   "cell_type": "markdown",
   "id": "70ba32c7",
   "metadata": {},
   "source": [
    "### np.linspace()\n",
    "\n",
    "- it will create arrays with a specified number of elements, and spaced equally between the specified beginning and end values.\n",
    "\n",
    "- np.linspace(beginning value, end value, number of element)\n",
    "\n",
    "- number of element = space + 1\n",
    "\n",
    "- The end value is included"
   ]
  },
  {
   "cell_type": "code",
   "execution_count": 56,
   "id": "15eab116",
   "metadata": {},
   "outputs": [
    {
     "data": {
      "text/plain": [
       "array([1. , 1.6, 2.2, 2.8, 3.4, 4. ])"
      ]
     },
     "execution_count": 56,
     "metadata": {},
     "output_type": "execute_result"
    }
   ],
   "source": [
    "np.linspace(1, 4, 6) "
   ]
  },
  {
   "cell_type": "markdown",
   "id": "bfbe1370",
   "metadata": {},
   "source": [
    "### Length of series; len() \n",
    "\n",
    "- Number of elements in a series"
   ]
  },
  {
   "cell_type": "code",
   "execution_count": 59,
   "id": "43c0b30d",
   "metadata": {},
   "outputs": [
    {
     "name": "stdout",
     "output_type": "stream",
     "text": [
      "[ 3.    7.25 11.5  15.75 20.  ]\n",
      "5\n"
     ]
    }
   ],
   "source": [
    "x = np.linspace(3,20,5)\n",
    "print(x)\n",
    "print(len(x))"
   ]
  },
  {
   "cell_type": "markdown",
   "id": "3893b386",
   "metadata": {},
   "source": [
    "---\n",
    "\n",
    "<img src=\"./Figures/matrix.png\" align=\"left\"/>"
   ]
  },
  {
   "cell_type": "code",
   "execution_count": 47,
   "id": "4b571c6b",
   "metadata": {},
   "outputs": [
    {
     "name": "stdout",
     "output_type": "stream",
     "text": [
      "[[1 2 3 4 5]]\n"
     ]
    }
   ],
   "source": [
    "# Numpy dizileri oluşturma\n",
    "A = np.array([[1, 2, 3, 4, 5]])  # this is a rank=1 array\n",
    "print(A)"
   ]
  },
  {
   "cell_type": "code",
   "execution_count": 48,
   "id": "c08d1e8f",
   "metadata": {},
   "outputs": [
    {
     "name": "stdout",
     "output_type": "stream",
     "text": [
      "[[ 6]\n",
      " [ 7]\n",
      " [ 8]\n",
      " [ 9]\n",
      " [10]]\n"
     ]
    }
   ],
   "source": [
    "B = np.array([[6],[7],[8],[9],[10]])\n",
    "print(B)"
   ]
  },
  {
   "cell_type": "code",
   "execution_count": 50,
   "id": "beaea9b6",
   "metadata": {},
   "outputs": [
    {
     "name": "stdout",
     "output_type": "stream",
     "text": [
      "[[ 1  2  3  4]\n",
      " [ 5  6  7  8]\n",
      " [ 9 10 11 12]\n",
      " [13 14 15 16]\n",
      " [17 18 19 20]]\n",
      "[[ 1  2  3  4]\n",
      " [ 5  6  7  8]\n",
      " [ 9 10 11 12]\n",
      " [13 14 15 16]\n",
      " [17 18 19 20]]\n"
     ]
    }
   ],
   "source": [
    "C = np.array([ [1, 2, 3, 4], [5, 6, 7, 8], [9,10,11,12], [13,14,15,16], [17,18,19,20] ])\n",
    "print(C)\n",
    "\n",
    "# yada\n",
    "\n",
    "C = np.array([[1, 2, 3, 4], \\\n",
    "              [5, 6, 7, 8], \\\n",
    "              [9,10,11,12], \\\n",
    "              [13,14,15,16],\\\n",
    "              [17,18,19,20]])\n",
    "print(C)"
   ]
  },
  {
   "cell_type": "code",
   "execution_count": 51,
   "id": "cf0eb7e4",
   "metadata": {},
   "outputs": [
    {
     "name": "stdout",
     "output_type": "stream",
     "text": [
      "Shape of A:  (1, 5)\n",
      "Shape of B:  (5, 1)\n",
      "Shape of C:  (5, 4)\n"
     ]
    }
   ],
   "source": [
    "# Dizinin boyutunu yazdırma\n",
    "print(\"Shape of A: \", A.shape)\n",
    "print(\"Shape of B: \", B.shape)\n",
    "print(\"Shape of C: \", C.shape)"
   ]
  },
  {
   "cell_type": "code",
   "execution_count": 55,
   "id": "4d10dfdf",
   "metadata": {},
   "outputs": [
    {
     "name": "stdout",
     "output_type": "stream",
     "text": [
      "[[1 2 3 4 5]]\n",
      "[[1]\n",
      " [2]\n",
      " [3]\n",
      " [4]\n",
      " [5]]\n",
      "[[1]\n",
      " [2]\n",
      " [3]\n",
      " [4]\n",
      " [5]]\n"
     ]
    }
   ],
   "source": [
    "# Dizinin transpozunu alma\n",
    "print(A)\n",
    "print(A.T)\n",
    "print(A.transpose())"
   ]
  },
  {
   "cell_type": "code",
   "execution_count": 53,
   "id": "6ed76d09",
   "metadata": {},
   "outputs": [
    {
     "name": "stdout",
     "output_type": "stream",
     "text": [
      "A . B:  [[175 190 205 220]]\n"
     ]
    }
   ],
   "source": [
    "# İki dizinin nokta çarpımı (matris çarpım)\n",
    "g = np.dot(A, C)\n",
    "print(\"A . B: \", g)"
   ]
  },
  {
   "cell_type": "markdown",
   "id": "6b61bb49",
   "metadata": {},
   "source": [
    "## Bir dizinin elemanlarına erişmek\n",
    "\n",
    "Syntax: matrixName[i, j], \n",
    "\n",
    "where, i: row index starts from 0 and j: column index stars form 0.\n",
    "\n",
    "<img src=\"./Figures/matrixc.png\" align=\"left\"/>"
   ]
  },
  {
   "cell_type": "code",
   "execution_count": 60,
   "id": "8c690b47",
   "metadata": {},
   "outputs": [
    {
     "name": "stdout",
     "output_type": "stream",
     "text": [
      "[[ 1  2  3  4]\n",
      " [ 5  6  7  8]\n",
      " [ 9 10 11 12]\n",
      " [13 14 15 16]\n",
      " [17 18 19 20]]\n"
     ]
    }
   ],
   "source": [
    "C = np.array([ [1, 2, 3, 4], [5, 6, 7, 8], [9,10,11,12], [13,14,15,16], [17,18,19,20] ])\n",
    "print(C)"
   ]
  },
  {
   "cell_type": "code",
   "execution_count": 63,
   "id": "56b36f5d",
   "metadata": {},
   "outputs": [
    {
     "name": "stdout",
     "output_type": "stream",
     "text": [
      "15\n"
     ]
    }
   ],
   "source": [
    "# Element value at 4th row, 3nd column:\n",
    "print(C[3,2])"
   ]
  },
  {
   "cell_type": "code",
   "execution_count": 62,
   "id": "d68ef409",
   "metadata": {},
   "outputs": [
    {
     "name": "stdout",
     "output_type": "stream",
     "text": [
      "[ 9 10 11 12]\n"
     ]
    }
   ],
   "source": [
    "# Print 3rd row:\n",
    "print(C[2])"
   ]
  },
  {
   "cell_type": "code",
   "execution_count": 65,
   "id": "f9877a6e",
   "metadata": {},
   "outputs": [
    {
     "name": "stdout",
     "output_type": "stream",
     "text": [
      "[ 2  6 10 14 18]\n"
     ]
    }
   ],
   "source": [
    "# Print 2nd column:\n",
    "print(C[: , 1])"
   ]
  },
  {
   "cell_type": "code",
   "execution_count": 67,
   "id": "8a421cc7",
   "metadata": {},
   "outputs": [
    {
     "name": "stdout",
     "output_type": "stream",
     "text": [
      "[[ 5  6  7  8]\n",
      " [ 9 10 11 12]\n",
      " [13 14 15 16]]\n"
     ]
    }
   ],
   "source": [
    "# Print 2nd, 3rd and 4th rows:\n",
    "print(C[1:4])"
   ]
  },
  {
   "cell_type": "code",
   "execution_count": 68,
   "id": "c6ba5df9",
   "metadata": {},
   "outputs": [
    {
     "name": "stdout",
     "output_type": "stream",
     "text": [
      "[[ 2  3]\n",
      " [ 6  7]\n",
      " [10 11]\n",
      " [14 15]\n",
      " [18 19]]\n"
     ]
    }
   ],
   "source": [
    "# Print 2nd and 3rd columns:\n",
    "print(C[: , 1:3])"
   ]
  },
  {
   "cell_type": "markdown",
   "id": "d1782ce2",
   "metadata": {},
   "source": [
    "---\n",
    "\n",
    "<img src=\"./Figures/matplotlib.jpg\" align=\"left\"/>"
   ]
  },
  {
   "cell_type": "code",
   "execution_count": 6,
   "id": "0871ceab",
   "metadata": {},
   "outputs": [
    {
     "data": {
      "image/png": "[encoded data removed]",
      "text/plain": [
       "<Figure size 640x480 with 1 Axes>"
      ]
     },
     "metadata": {},
     "output_type": "display_data"
    }
   ],
   "source": [
    "# Visualization with Python\n",
    "import matplotlib.pyplot as plt\n",
    "import numpy as np\n",
    "\n",
    "# Veri dizileri oluşturma\n",
    "x = np.array([1, 2, 3, 4, 5])\n",
    "y = np.array([3, 4, 7, 8, 11])\n",
    "\n",
    "# Grafik penceresi oluşturma\n",
    "plt.figure()\n",
    "\n",
    "# Grafik çizimi\n",
    "plt.plot(x, y, color=\"red\", linestyle=\"--\", marker=\"o\")\n",
    "\n",
    "# Grafik başlığı ve eksen isimleri\n",
    "plt.title(\"Line Plot\")\n",
    "plt.xlabel(\"X Axis\")\n",
    "plt.ylabel(\"Y Axis\")\n",
    "\n",
    "# Grafik gösterimi\n",
    "plt.show()"
   ]
  }
 ],
 "metadata": {
  "hide_input": false,
  "kernelspec": {
   "display_name": "Python 3 (ipykernel)",
   "language": "python",
   "name": "python3"
  },
  "language_info": {
   "codemirror_mode": {
    "name": "ipython",
    "version": 3
   },
   "file_extension": ".py",
   "mimetype": "text/x-python",
   "name": "python",
   "nbconvert_exporter": "python",
   "pygments_lexer": "ipython3",
   "version": "3.9.13"
  },
  "varInspector": {
   "cols": {
    "lenName": 16,
    "lenType": 16,
    "lenVar": 40
   },
   "kernels_config": {
    "python": {
     "delete_cmd_postfix": "",
     "delete_cmd_prefix": "del ",
     "library": "var_list.py",
     "varRefreshCmd": "print(var_dic_list())"
    },
    "r": {
     "delete_cmd_postfix": ") ",
     "delete_cmd_prefix": "rm(",
     "library": "var_list.r",
     "varRefreshCmd": "cat(var_dic_list()) "
    }
   },
   "types_to_exclude": [
    "module",
    "function",
    "builtin_function_or_method",
    "instance",
    "_Feature"
   ],
   "window_display": false
  }
 },
 "nbformat": 4,
 "nbformat_minor": 5
}
